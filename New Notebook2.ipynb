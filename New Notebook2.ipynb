{
    "cells": [
        {
            "cell_type": "code",
            "execution_count": 3,
            "metadata": {},
            "outputs": [
                {
                    "name": "stdout",
                    "output_type": "stream",
                    "text": "+-------------+-----------+----------+----------------+---------------+\n|        State|       Date|New Deaths|7-Day Moving Avg|Historic Deaths|\n+-------------+-----------+----------+----------------+---------------+\n|United States|Oct 26 2021|      1612|            1098|             25|\n|United States|Oct 25 2021|      1064|            1119|             56|\n|United States|Oct 24 2021|       178|            1098|              0|\n|United States|Oct 23 2021|       437|            1162|              0|\n|United States|Oct 22 2021|      1625|            1209|             77|\n+-------------+-----------+----------+----------------+---------------+\nonly showing top 5 rows\n\n"
                },
                {
                    "data": {
                        "text/plain": "configurationName = os_a4e64a2ab0c64aca8ee382f1b132bd71_configs\nendpoint_a4e64a2ab0c64aca8ee382f1b132bd71 = https://s3.private.us.cloud-object-storage.appdomain.cloud\ncos = com.ibm.ibmos2spark.CloudObjectStorage@307d9095\nspark = org.apache.spark.sql.SparkSession@e854842b\ndfData1 = [State: string, Date: string ... 3 more fields]\n"
                    },
                    "metadata": {},
                    "output_type": "display_data"
                },
                {
                    "data": {
                        "text/plain": "getCredentials: ()scala.collection.mutable.HashMap[String,String]\n"
                    },
                    "metadata": {},
                    "output_type": "display_data"
                },
                {
                    "data": {
                        "text/plain": "[State: string, Date: string ... 3 more fields]"
                    },
                    "execution_count": 3,
                    "metadata": {},
                    "output_type": "execute_result"
                }
            ],
            "source": "// The code was removed by Watson Studio for sharing."
        }
    ],
    "metadata": {
        "kernelspec": {
            "display_name": "Scala 2.12 with Spark",
            "language": "scala",
            "name": "scala"
        },
        "language_info": {
            "codemirror_mode": "text/x-scala",
            "file_extension": ".scala",
            "mimetype": "text/x-scala",
            "name": "scala",
            "pygments_lexer": "scala",
            "version": "2.12.12"
        }
    },
    "nbformat": 4,
    "nbformat_minor": 1
}